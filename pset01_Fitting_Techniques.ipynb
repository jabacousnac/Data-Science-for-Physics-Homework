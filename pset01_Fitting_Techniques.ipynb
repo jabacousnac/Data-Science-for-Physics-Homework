{
 "cells": [
  {
   "cell_type": "code",
   "execution_count": 2,
   "id": "df0bef9b",
   "metadata": {},
   "outputs": [],
   "source": [
    "import numpy as np\n",
    "import matplotlib.pyplot as plt\n",
    "import pandas as pd"
   ]
  },
  {
   "cell_type": "code",
   "execution_count": 3,
   "id": "fff5bcbe",
   "metadata": {},
   "outputs": [
    {
     "name": "stdout",
     "output_type": "stream",
     "text": [
      "      0    1   2   3     4\n",
      "0   201  592  61   9 -0.84\n",
      "1   244  401  25   4  0.31\n",
      "2    47  583  38  11  0.64\n",
      "3   287  402  15   7 -0.27\n",
      "4   203  495  21   5 -0.33\n",
      "5    58  173  15   9  0.67\n",
      "6   210  479  27   4 -0.02\n",
      "7   202  504  14   4 -0.05\n",
      "8   198  510  30  11 -0.84\n",
      "9   158  416  16   7 -0.69\n",
      "10  165  393  14   5  0.30\n",
      "11  201  442  25   5 -0.46\n",
      "12  157  317  52   5 -0.03\n",
      "13  131  311  16   6  0.50\n",
      "14  166  400  34   6  0.73\n",
      "15  160  337  31   5 -0.52\n",
      "16  186  423  42   9  0.90\n",
      "17  125  334  26   8  0.40\n",
      "18  218  533  16   6 -0.78\n",
      "19  146  344  22   5 -0.56\n"
     ]
    }
   ],
   "source": [
    "file = pd.read_csv(r\"data.txt\", delimiter='\\s+', header = None)\n",
    "print(file)\n",
    "x = file.iloc[:,0]\n",
    "y = file.iloc[:,1]\n",
    "sigma_y = file.iloc[:,2]\n",
    "sigma_x = file.iloc[:,3]\n",
    "rho_xy = file.iloc[:,4]"
   ]
  },
  {
   "cell_type": "markdown",
   "id": "f788b9b4",
   "metadata": {},
   "source": [
    "## Q1. Fit data to $y = mx+b$ "
   ]
  },
  {
   "cell_type": "code",
   "execution_count": 19,
   "id": "ad3cde8a",
   "metadata": {},
   "outputs": [
    {
     "name": "stdout",
     "output_type": "stream",
     "text": [
      "X shape: (16, 2)\n",
      "Y shape: (16,)\n",
      "C_inv shape: (16, 16)\n",
      "info shape: (2, 2)\n",
      "proj shape: (2,)\n",
      "theta: [ 2.23992083 34.04772776]\n",
      "\n",
      " var in slope = 0.011616631123297421\n"
     ]
    },
    {
     "data": {
      "image/png": "[encoded data removed]",
      "text/plain": [
       "<Figure size 360x360 with 1 Axes>"
      ]
     },
     "metadata": {
      "needs_background": "light"
     },
     "output_type": "display_data"
    }
   ],
   "source": [
    "#we need to construct the following matrices: X, Y, C^-1, and solve for Theta\n",
    "\n",
    "def get_params(x,y,sigma_y):\n",
    "    \n",
    "    #X\n",
    "    dim = len(x)\n",
    "    X = np.ones((dim,2))\n",
    "    X[:,0] = x\n",
    "    print('X shape:', X.shape)\n",
    "\n",
    "    #Y\n",
    "    Y = y\n",
    "    print('Y shape:', Y.shape)\n",
    "\n",
    "    #C_inv\n",
    "    C_inv = np.zeros((dim, dim))\n",
    "    var_inv = [1/s**2 for s in sigma_y]\n",
    "    np.fill_diagonal(C_inv, var_inv)\n",
    "    print('C_inv shape:', C_inv.shape)\n",
    "\n",
    "    info_inv = np.matmul(np.matmul(np.transpose(X), C_inv), X) #information inverse matrix\n",
    "    info = np.linalg.solve(info_inv, np.identity(2)) #solve(a,b) solves equation for x: Ax = b\n",
    "    print('info shape:', info.shape)\n",
    "\n",
    "    proj = np.matmul(np.matmul(np.transpose(X), C_inv), Y) #projection matrix\n",
    "    print('proj shape:', proj.shape)\n",
    "\n",
    "    Theta = np.matmul(info, proj)\n",
    "    print('theta:', Theta)\n",
    "\n",
    "    #calculate uncertainty in slope\n",
    "    unc_matrix = np.linalg.solve(np.matmul(np.matmul(np.transpose(X), C_inv), X), np.identity(2))\n",
    "    print('\\n var in slope = {}'.format(unc_matrix[0][0]))\n",
    "    \n",
    "    return Theta\n",
    "\n",
    "#############################################################################################################\n",
    "\n",
    "Theta = get_params(x[4:],y[4:],sigma_y[4:])\n",
    "m, b = Theta[0], Theta[1]\n",
    "x_hat = np.linspace(0, 300)\n",
    "y_hat = [x*m + b for x in x_hat]\n",
    "\n",
    "fig, ax = plt.subplots(figsize = (5,5))\n",
    "_= ax.errorbar(x[4:], y[4:], sigma_y[4:], fmt = 's',color = 'black', ecolor = 'black', elinewidth = 1, capsize=2)\n",
    "_= ax.plot(x_hat, y_hat, 'r-', label = r'$y = {}x$'.format(round(m,2)) + '$+ {}$'.format(round(b,2)))\n",
    "\n",
    "ax.set_xlabel(r'$x$')\n",
    "ax.set_ylabel(r'$y$')\n",
    "\n",
    "ax.legend()\n",
    "ax.grid()\n",
    "\n",
    "_= ax.set_xlim([0, 300])\n",
    "_= ax.set_ylim([0, 700])"
   ]
  },
  {
   "cell_type": "markdown",
   "id": "0ef4997d",
   "metadata": {},
   "source": [
    "## Q2"
   ]
  },
  {
   "cell_type": "code",
   "execution_count": 20,
   "id": "1893b034",
   "metadata": {},
   "outputs": [
    {
     "name": "stdout",
     "output_type": "stream",
     "text": [
      "X shape: (20, 2)\n",
      "Y shape: (20,)\n",
      "C_inv shape: (20, 20)\n",
      "info shape: (2, 2)\n",
      "proj shape: (2,)\n",
      "theta: [  1.07674752 213.27349198]\n",
      "\n",
      " var in slope = 0.005991810080070377\n"
     ]
    },
    {
     "data": {
      "image/png": "[encoded data removed]",
      "text/plain": [
       "<Figure size 360x360 with 1 Axes>"
      ]
     },
     "metadata": {
      "needs_background": "light"
     },
     "output_type": "display_data"
    }
   ],
   "source": [
    "Theta = get_params(x,y,sigma_y)\n",
    "\n",
    "m, b = Theta[0], Theta[1]\n",
    "x_hat = np.linspace(0, 300)\n",
    "y_hat = [x*m + b for x in x_hat]\n",
    "\n",
    "fig, ax = plt.subplots(figsize = (5,5))\n",
    "ax.errorbar(x, y, sigma_y, fmt = 's',color = 'black', ecolor = 'black', elinewidth = 1, capsize=2)\n",
    "ax.plot(x_hat, y_hat, 'r-', label = r'$y = {}x$'.format(round(m,2)) + '$+ {}$'.format(round(b,2)))\n",
    "\n",
    "ax.set_xlabel(r'$x$')\n",
    "ax.set_ylabel(r'$y$')\n",
    "\n",
    "ax.legend()\n",
    "ax.grid()\n",
    "\n",
    "_= ax.set_xlim([0, 300])\n",
    "_= ax.set_ylim([0, 700])"
   ]
  },
  {
   "cell_type": "markdown",
   "id": "c61c6aef",
   "metadata": {},
   "source": [
    "#### In spite of a much \"worse\" fit, the variance of the slope is lower! Hence, the uncertainty does not adequately capture how \"good\" or \"bad\" the linear fit is. We can infer that a linear fit may not be the best option for this dataset."
   ]
  },
  {
   "cell_type": "markdown",
   "id": "41f7b6bf",
   "metadata": {},
   "source": [
    "## Q3. Perform Quadratic fit to data"
   ]
  },
  {
   "cell_type": "code",
   "execution_count": 202,
   "id": "35279836",
   "metadata": {},
   "outputs": [
    {
     "name": "stdout",
     "output_type": "stream",
     "text": [
      "Y shape: (16,)\n",
      "C_inv shape: (16, 16)\n",
      "info shape: (3, 3)\n",
      "proj shape: (3,)\n",
      "theta: [2.29888841e-03 1.59605045e+00 7.28946265e+01]\n"
     ]
    },
    {
     "data": {
      "text/plain": [
       "(0.0, 700.0)"
      ]
     },
     "execution_count": 202,
     "metadata": {},
     "output_type": "execute_result"
    },
    {
     "data": {
      "image/png": "[encoded data removed]",
      "text/plain": [
       "<Figure size 360x360 with 1 Axes>"
      ]
     },
     "metadata": {
      "needs_background": "light"
     },
     "output_type": "display_data"
    }
   ],
   "source": [
    "#X\n",
    "dim = len(x[4:])\n",
    "X = np.ones((dim,3))\n",
    "X[:,1] = x[4:]\n",
    "X[:,0] = [x**2 for x in x[4:]]\n",
    "\n",
    "#Theta is now [q, m, b]\n",
    "\n",
    "#Y is the same vector\n",
    "Y = y[4:]\n",
    "print('Y shape:', Y.shape)\n",
    "\n",
    "#C_inv\n",
    "C_inv = np.zeros((dim, dim))\n",
    "var_inv = [1/s**2 for s in sigma_y[4:]]\n",
    "np.fill_diagonal(C_inv, var_inv)\n",
    "print('C_inv shape:', C_inv.shape)\n",
    "\n",
    "info_inv = np.matmul(np.matmul(np.transpose(X), C_inv), X) #information inverse matrix\n",
    "info = np.linalg.solve(info_inv, np.identity(3)) #solve(a,b) solves equation for x: Ax = b\n",
    "print('info shape:', info.shape)\n",
    "\n",
    "proj = np.matmul(np.matmul(np.transpose(X), C_inv), Y) #projection matrix\n",
    "print('proj shape:', proj.shape)\n",
    "\n",
    "Theta = np.matmul(info, proj)\n",
    "print('theta:', Theta)\n",
    "\n",
    "###############################################################################################################\n",
    "\n",
    "q, m, b = Theta[0], Theta[1], Theta[2]\n",
    "x_hat = np.linspace(0, 300)\n",
    "y_hat = [q*x**2 + x*m + b for x in x_hat]\n",
    "q = \"{:3f}\".format(q)\n",
    "\n",
    "fig, ax = plt.subplots(figsize = (5,5))\n",
    "ax.errorbar(x[4:], y[4:], sigma_y[4:], fmt = 's', color = 'black', ecolor = 'black', elinewidth = 1., capsize=2)\n",
    "\n",
    "ax.plot(x_hat, y_hat, 'r-', label = r'$y = {}x^2+$'.format(q) + r'{}x'.format(round(m,2)) +\\\n",
    "        r'$+ {}$'.format(round(b,2)))\n",
    "\n",
    "ax.set_xlabel(r'$x$')\n",
    "ax.set_ylabel(r'$y$')\n",
    "\n",
    "ax.legend()\n",
    "ax.grid()\n",
    "\n",
    "ax.set_xlim([0, 300])\n",
    "ax.set_ylim([0, 700])"
   ]
  },
  {
   "cell_type": "markdown",
   "id": "e667f5b0",
   "metadata": {},
   "source": [
    "## Q8. Jacknife and Bootstrap Resampling"
   ]
  },
  {
   "cell_type": "markdown",
   "id": "05e3d72d",
   "metadata": {},
   "source": [
    "## a) Jacknife"
   ]
  },
  {
   "cell_type": "markdown",
   "id": "f4d09ea7",
   "metadata": {},
   "source": [
    "#### resample datasets: each time, leave out one element. From that new set, get slope of the fit. Get uncertainty from list of slope values"
   ]
  },
  {
   "cell_type": "code",
   "execution_count": 275,
   "id": "ed159e8f",
   "metadata": {},
   "outputs": [
    {
     "name": "stdout",
     "output_type": "stream",
     "text": [
      "average slope: 1.0752545538219032\n",
      "variance in slope (sigma_m_sq): 0.040207688445794816\n"
     ]
    }
   ],
   "source": [
    "x = file.iloc[:,0]\n",
    "y = file.iloc[:,1]\n",
    "sigma_y = file.iloc[:,2]\n",
    "\n",
    "m_list = []\n",
    "\n",
    "for i in range(len(x)):\n",
    "    \n",
    "    #resample by removing one datapoint\n",
    "    x_resampled = x.drop([i])\n",
    "    y_resampled = y.drop([i])\n",
    "    sigma_y_resampled = sigma_y.drop([i])\n",
    "    \n",
    "    Theta = get_params(x_resampled,y_resampled,sigma_y_resampled)\n",
    "    \n",
    "    m_list.append(Theta[0])\n",
    "\n",
    "print('average slope:',  np.mean(m_list))\n",
    "print('variance in slope (sigma_m_sq):', np.std(m_list)**2)"
   ]
  },
  {
   "cell_type": "markdown",
   "id": "8dca1cb0",
   "metadata": {},
   "source": [
    "## b) Bootstrap"
   ]
  },
  {
   "cell_type": "markdown",
   "id": "54f211d7",
   "metadata": {},
   "source": [
    "#### use a RNG to choose a set of N elements from an N-element dataset. Some numbers will duplicate, some won't show up. And then repeat as with jackknife"
   ]
  },
  {
   "cell_type": "code",
   "execution_count": 274,
   "id": "904acdea",
   "metadata": {},
   "outputs": [
    {
     "name": "stdout",
     "output_type": "stream",
     "text": [
      "average slope: 1.067627409661718\n",
      "variance in slope (sigma_m_sq): 0.38094327220340335\n"
     ]
    }
   ],
   "source": [
    "import random\n",
    "\n",
    "M = 1000 #do bootstrap M times\n",
    "m_list = []\n",
    "\n",
    "for i in range(M):\n",
    "    \n",
    "    int_list = range(len(x))\n",
    "    sample_list = random.choices(int_list, k=20)\n",
    "#    print(sample_list) #<-- random assortment of indices\n",
    "\n",
    "    x_resampled = [x.iloc[i] for i in sample_list]\n",
    "    y_resampled = [y.iloc[i] for i in sample_list] \n",
    "    sigma_y_resampled = [sigma_y.iloc[i] for i in sample_list]\n",
    "\n",
    "    Theta = get_params(x_resampled,y_resampled,sigma_y_resampled)\n",
    "    \n",
    "    m_list.append(Theta[0])\n",
    "\n",
    "print('average slope:',  np.mean(m_list))\n",
    "print('variance in slope (sigma_m_sq):', np.std(m_list)**2)"
   ]
  },
  {
   "cell_type": "markdown",
   "id": "c0f47413",
   "metadata": {},
   "source": [
    "#### The jacknife uncertainty seems more suitable (a little surprising because it is a linear approximation of bootstrap, which is a more sophisticated method). \n",
    "#### The variances from jackknife and bootstrap are larger than those obtained initially in q1. This is because these are techniques that are used on resampled datasets that approximate to the real dataset."
   ]
  }
 ],
 "metadata": {
  "kernelspec": {
   "display_name": "Python 3 (ipykernel)",
   "language": "python",
   "name": "python3"
  },
  "language_info": {
   "codemirror_mode": {
    "name": "ipython",
    "version": 3
   },
   "file_extension": ".py",
   "mimetype": "text/x-python",
   "name": "python",
   "nbconvert_exporter": "python",
   "pygments_lexer": "ipython3",
   "version": "3.10.7"
  }
 },
 "nbformat": 4,
 "nbformat_minor": 5
}
