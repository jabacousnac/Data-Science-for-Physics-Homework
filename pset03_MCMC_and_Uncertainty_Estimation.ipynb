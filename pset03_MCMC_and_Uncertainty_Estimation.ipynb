{
 "cells": [
  {
   "cell_type": "code",
   "execution_count": 46,
   "id": "d2fefcbe-6297-4935-8127-91fa3fddf7d2",
   "metadata": {},
   "outputs": [],
   "source": [
    "import numpy as np\n",
    "import matplotlib.pyplot as plt\n",
    "import pandas as pd\n",
    "from scipy import linalg\n",
    "from matplotlib import patches"
   ]
  },
  {
   "cell_type": "markdown",
   "id": "2f0d9e7e-0d53-450a-8370-bcb2edf11d42",
   "metadata": {},
   "source": [
    "## Q1. Re-visit pset 1, and get covariance error ellipse"
   ]
  },
  {
   "cell_type": "code",
   "execution_count": 104,
   "id": "46d3d8ee-ae9c-4ec7-84b8-b2d22ccf74fe",
   "metadata": {},
   "outputs": [],
   "source": [
    "file = pd.read_csv(r\"data.txt\", delimiter='\\s+', header = None)\n",
    "x = file.iloc[:,0][4:]\n",
    "y = file.iloc[:,1][4:]\n",
    "sigma_y = file.iloc[:,2][4:]\n",
    "sigma_x = file.iloc[:,3][4:]\n",
    "rho_xy = file.iloc[:,4][4:]"
   ]
  },
  {
   "cell_type": "markdown",
   "id": "4b683669-6305-4f2e-af67-8372ce5c86e1",
   "metadata": {},
   "source": [
    "#### Get covariance matrix"
   ]
  },
  {
   "cell_type": "code",
   "execution_count": 105,
   "id": "2c9bd582-e0f3-4c37-8c93-961d60ae01fb",
   "metadata": {},
   "outputs": [],
   "source": [
    "#we need to construct the following matrices: X, Y, C^-1, and solve for Theta\n",
    "\n",
    "def get_unc_matrix(x,y,sigma_y):\n",
    "\n",
    "    dim = len(x)\n",
    "    X = np.ones((dim,2))\n",
    "    X[:,0] = x\n",
    "    Y = y\n",
    "    \n",
    "    C_inv = np.zeros((dim, dim))\n",
    "    var_inv = [1/s**2 for s in sigma_y]\n",
    "    np.fill_diagonal(C_inv, var_inv)\n",
    "\n",
    "    info_inv = np.matmul(np.matmul(np.transpose(X), C_inv), X) #information inverse matrix\n",
    "    info = np.linalg.solve(info_inv, np.identity(2)) #solve(a,b) solves equation for x: Ax = b\n",
    "\n",
    "    proj = np.matmul(np.matmul(np.transpose(X), C_inv), Y) #projection matrix\n",
    "\n",
    "    Theta = np.matmul(info, proj)\n",
    "\n",
    "    unc_matrix = np.linalg.solve(np.matmul(np.matmul(np.transpose(X), C_inv), X), np.identity(2))\n",
    "    \n",
    "    return unc_matrix"
   ]
  },
  {
   "cell_type": "markdown",
   "id": "0f302df4-e9a1-49ba-a80e-f053031b777b",
   "metadata": {},
   "source": [
    "#### Get ellipse parameters"
   ]
  },
  {
   "cell_type": "code",
   "execution_count": 124,
   "id": "e253c4e5-252d-4d08-9fe3-64a6e638304e",
   "metadata": {},
   "outputs": [
    {
     "name": "stdout",
     "output_type": "stream",
     "text": [
      "Covariance matrix = [[ 1.16166311e-02 -1.88954491e+00]\n",
      " [-1.88954491e+00  3.32922601e+02]] \n",
      "\n"
     ]
    },
    {
     "data": {
      "image/png": "[encoded data removed]",
      "text/plain": [
       "<Figure size 432x288 with 1 Axes>"
      ]
     },
     "metadata": {
      "needs_background": "light"
     },
     "output_type": "display_data"
    }
   ],
   "source": [
    "unc_matrix = get_unc_matrix(x,y,sigma_y)\n",
    "print('Covariance matrix = {}'.format(unc_matrix), '\\n')\n",
    "eigval, eigvec = linalg.eig(unc_matrix)\n",
    "\n",
    "#semi major and semi minor radii are square roots of eigenvalues.\n",
    "r1 = np.sqrt(np.real(eigval[0]))\n",
    "r2 = np.sqrt(np.real(eigval[1]))\n",
    "\n",
    "#the orientation of the ellipse is the angle (lambda1-a/b), where covar matrix is [a b; b c]\n",
    "a = unc_matrix[0][0]\n",
    "b = unc_matrix[1][0]\n",
    "c = unc_matrix[1][1]\n",
    "alpha = np.arctan2(np.real(eigval[0])-a, b)\n",
    "\n",
    "trange = np.linspace(0,2*np.pi,100)\n",
    "x_ellipse = [r1*np.cos(alpha)*np.cos(t) - r2*np.sin(alpha)*np.sin(t) for t in trange]\n",
    "y_ellipse = [r1*np.sin(alpha)*np.cos(t) + r2*np.cos(alpha)*np.sin(t) for t in trange]\n",
    "\n",
    "#plot datapoint along with its uncertainty\n",
    "fig, ax = plt.subplots()\n",
    "ax.set_ylabel(r'$b$')\n",
    "ax.set_xlabel(r'$m$')\n",
    "\n",
    "m, intercept = 2.24, 34.05 #MLE estimates\n",
    "x_ellipse = [x_ellipse[i] + m for i in range(len(x_ellipse))]\n",
    "y_ellipse = [y_ellipse[i] + intercept for i in range(len(y_ellipse))]\n",
    "\n",
    "_= ax.plot(x_ellipse, y_ellipse, 'k-')\n",
    "#_= ax.plot([m+np.sqrt(a), m-np.sqrt(a)], [intercept-np.sqrt(c), intercept+np.sqrt(c)], 'b-', alpha = 0.4)\n",
    "_= ax.scatter(m, intercept, s = 48, marker = 'x', c='red')\n",
    "\n",
    "ax.set_xlim([2.1,2.4])\n",
    "ax.set_ylim([12,55])\n",
    "ax.grid()"
   ]
  },
  {
   "cell_type": "code",
   "execution_count": null,
   "id": "8d85053c-fa03-401b-a2d0-9cbd7d1f962c",
   "metadata": {},
   "outputs": [],
   "source": []
  }
 ],
 "metadata": {
  "kernelspec": {
   "display_name": "Python 3 (ipykernel)",
   "language": "python",
   "name": "python3"
  },
  "language_info": {
   "codemirror_mode": {
    "name": "ipython",
    "version": 3
   },
   "file_extension": ".py",
   "mimetype": "text/x-python",
   "name": "python",
   "nbconvert_exporter": "python",
   "pygments_lexer": "ipython3",
   "version": "3.10.6"
  }
 },
 "nbformat": 4,
 "nbformat_minor": 5
}
