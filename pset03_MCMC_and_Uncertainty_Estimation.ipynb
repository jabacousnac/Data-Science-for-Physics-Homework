{
 "cells": [
  {
   "cell_type": "code",
   "execution_count": null,
   "id": "d2fefcbe-6297-4935-8127-91fa3fddf7d2",
   "metadata": {},
   "outputs": [],
   "source": [
    "import numpy as np\n",
    "import matplotlib.pyplot as plt\n",
    "import pandas as pd\n",
    "from scipy import linalg\n",
    "from scipy.optimize import minimize\n",
    "from matplotlib import patches"
   ]
  },
  {
   "cell_type": "markdown",
   "id": "2f0d9e7e-0d53-450a-8370-bcb2edf11d42",
   "metadata": {},
   "source": [
    "## Q1. Re-visit pset 1, and get covariance error ellipse"
   ]
  },
  {
   "cell_type": "code",
   "execution_count": 128,
   "id": "46d3d8ee-ae9c-4ec7-84b8-b2d22ccf74fe",
   "metadata": {},
   "outputs": [],
   "source": [
    "file = pd.read_csv(r\"data.txt\", delimiter='\\s+', header = None)\n",
    "x = file.iloc[:,0]\n",
    "y = file.iloc[:,1]\n",
    "sigma_y = file.iloc[:,2]\n",
    "sigma_x = file.iloc[:,3]\n",
    "rho_xy = file.iloc[:,4]"
   ]
  },
  {
   "cell_type": "markdown",
   "id": "4b683669-6305-4f2e-af67-8372ce5c86e1",
   "metadata": {},
   "source": [
    "#### Function to get covariance matrix"
   ]
  },
  {
   "cell_type": "code",
   "execution_count": 129,
   "id": "2c9bd582-e0f3-4c37-8c93-961d60ae01fb",
   "metadata": {},
   "outputs": [],
   "source": [
    "#we need to construct the following matrices: X, Y, C^-1, and solve for Theta\n",
    "\n",
    "def get_unc_matrix(x,y,sigma_y):\n",
    "\n",
    "    dim = len(x)\n",
    "    X = np.ones((dim,2))\n",
    "    X[:,0] = x\n",
    "    Y = y\n",
    "    \n",
    "    C_inv = np.zeros((dim, dim))\n",
    "    var_inv = [1/s**2 for s in sigma_y]\n",
    "    np.fill_diagonal(C_inv, var_inv)\n",
    "\n",
    "    info_inv = np.matmul(np.matmul(np.transpose(X), C_inv), X) #information inverse matrix\n",
    "    info = np.linalg.solve(info_inv, np.identity(2)) #solve(a,b) solves equation for x: Ax = b\n",
    "\n",
    "    proj = np.matmul(np.matmul(np.transpose(X), C_inv), Y) #projection matrix\n",
    "\n",
    "    Theta = np.matmul(info, proj)\n",
    "\n",
    "    unc_matrix = np.linalg.solve(np.matmul(np.matmul(np.transpose(X), C_inv), X), np.identity(2))\n",
    "    \n",
    "    return unc_matrix"
   ]
  },
  {
   "cell_type": "markdown",
   "id": "0f302df4-e9a1-49ba-a80e-f053031b777b",
   "metadata": {},
   "source": [
    "#### Function to get ellipse parameters"
   ]
  },
  {
   "cell_type": "code",
   "execution_count": 133,
   "id": "e253c4e5-252d-4d08-9fe3-64a6e638304e",
   "metadata": {},
   "outputs": [],
   "source": [
    "def get_ellipse(x,y,sigma_y):\n",
    "    \n",
    "    unc_matrix = get_unc_matrix(x,y,sigma_y)\n",
    "    print('Covariance matrix = {}'.format(unc_matrix), '\\n')\n",
    "    eigval, eigvec = linalg.eig(unc_matrix)\n",
    "\n",
    "    #semi major and semi minor radii are square roots of eigenvalues.\n",
    "    r1 = np.sqrt(np.real(eigval[0]))\n",
    "    r2 = np.sqrt(np.real(eigval[1]))\n",
    "\n",
    "    #the orientation of the ellipse is the angle (lambda1-a/b), where covar matrix is [a b; b c]\n",
    "    a = unc_matrix[0][0]\n",
    "    b = unc_matrix[1][0]\n",
    "    c = unc_matrix[1][1]\n",
    "    alpha = np.arctan2(np.real(eigval[0])-a, b)\n",
    "\n",
    "    trange = np.linspace(0,2*np.pi,100)\n",
    "    x_ellipse = [r1*np.cos(alpha)*np.cos(t) - r2*np.sin(alpha)*np.sin(t) for t in trange]\n",
    "    y_ellipse = [r1*np.sin(alpha)*np.cos(t) + r2*np.cos(alpha)*np.sin(t) for t in trange]\n",
    "    \n",
    "    return x_ellipse, y_ellipse"
   ]
  },
  {
   "cell_type": "markdown",
   "id": "ec380157-3246-4ef4-873f-1b97f6652816",
   "metadata": {},
   "source": [
    "#### Plot the ellipses from q1, q2 from pset01"
   ]
  },
  {
   "cell_type": "code",
   "execution_count": 146,
   "id": "31b4445b-5a4c-4ffb-b2cd-188a72738670",
   "metadata": {},
   "outputs": [
    {
     "name": "stdout",
     "output_type": "stream",
     "text": [
      "Covariance matrix = [[ 1.16166311e-02 -1.88954491e+00]\n",
      " [-1.88954491e+00  3.32922601e+02]] \n",
      "\n",
      "Covariance matrix = [[ 5.99181008e-03 -1.05427206e+00]\n",
      " [-1.05427206e+00  2.07188189e+02]] \n",
      "\n"
     ]
    },
    {
     "data": {
      "text/plain": [
       "<matplotlib.legend.Legend at 0x7f94b96e63e0>"
      ]
     },
     "execution_count": 146,
     "metadata": {},
     "output_type": "execute_result"
    },
    {
     "data": {
      "image/png": "[encoded data removed]",
      "text/plain": [
       "<Figure size 432x288 with 1 Axes>"
      ]
     },
     "metadata": {
      "needs_background": "light"
     },
     "output_type": "display_data"
    }
   ],
   "source": [
    "#plot datapoint along with its uncertainty\n",
    "fig, ax = plt.subplots()\n",
    "ax.set_ylabel(r'$b$')\n",
    "ax.set_xlabel(r'$m$')\n",
    "\n",
    "#q1.\n",
    "m, intercept = 2.24, 34.05 #MLE estimates\n",
    "x_ellipse, y_ellipse = get_ellipse(x[4:],y[4:],sigma_y[4:])\n",
    "x_ellipse = [x_ellipse[i] + m for i in range(len(x_ellipse))]\n",
    "y_ellipse = [y_ellipse[i] + intercept for i in range(len(y_ellipse))]\n",
    "_= ax.plot(x_ellipse, y_ellipse, 'b-', label = 'Q1')\n",
    "#_= ax.plot([m+np.sqrt(a), m-np.sqrt(a)], [intercept-np.sqrt(c), intercept+np.sqrt(c)], 'b-', alpha = 0.4)\n",
    "_= ax.scatter(m, intercept, s = 36, marker = '+', c='k')\n",
    "\n",
    "#q2\n",
    "m, intercept = 1.08, 213.27 #MLE estimates\n",
    "x_ellipse, y_ellipse = get_ellipse(x,y,sigma_y)\n",
    "x_ellipse = [x_ellipse[i] + m for i in range(len(x_ellipse))]\n",
    "y_ellipse = [y_ellipse[i] + intercept for i in range(len(y_ellipse))]\n",
    "_= ax.plot(x_ellipse, y_ellipse, 'g-', label = 'Q2')\n",
    "#_= ax.plot([m+np.sqrt(a), m-np.sqrt(a)], [intercept-np.sqrt(c), intercept+np.sqrt(c)], 'b-', alpha = 0.4)\n",
    "_= ax.scatter(m, intercept, s = 36, marker = '+', c='k')\n",
    "\n",
    "ax.grid()\n",
    "ax.legend()"
   ]
  },
  {
   "cell_type": "markdown",
   "id": "96cd33ee-5d24-4372-8d7a-0408960ee954",
   "metadata": {},
   "source": [
    "#### Recall that Q2 included the outliers that make the linear fit a poor choice. Despite that, it is suggested by the above plot that the uncertainties in $m,b$ are similar (if not smaller). The sizes of uncertainties are in no way a fair indicator as to whether a particular fit is a good choice, or not. "
   ]
  },
  {
   "cell_type": "markdown",
   "id": "1708ba52-f0bf-4de3-a090-706bcff863c2",
   "metadata": {},
   "source": [
    "## Q2. Find standard uncertainty in T"
   ]
  },
  {
   "cell_type": "markdown",
   "id": "cd371d94-24d2-44e2-a865-ee79c60fe4f5",
   "metadata": {},
   "source": [
    "#### We can just adopt the laziest frequentist method of plotting Likelihood v parameter, finding the max likelihood value, do a cut-off at 68$^{\\mathrm{th}}$ percentile, and obtain the width of that peak at that percentile"
   ]
  },
  {
   "cell_type": "markdown",
   "id": "02f6e39b-3b7d-49e3-92ec-e98a0ee0cff0",
   "metadata": {},
   "source": [
    "#### literally the function used in pset02 to obtain profiled likelihood:"
   ]
  },
  {
   "cell_type": "code",
   "execution_count": 159,
   "id": "774b1b4d-259d-4ed7-a192-601bab991f63",
   "metadata": {},
   "outputs": [],
   "source": [
    "df = pd.read_pickle(\"./data.pkl\") \n",
    "X_data = df[:,0]\n",
    "Y_data_err = df[:,1]\n",
    "Y_data = df[:,-1]\n",
    "\n",
    "T0 = 100\n",
    "T_list = np.append(np.linspace(1,80,80), np.linspace(120,400,281)) #append two arrays that exclude the\n",
    "        #T=100 region.\n",
    "\n",
    "likelihood = []\n",
    "for T1 in T_list:\n",
    "    #calc. chi_sq\n",
    "    def chi_sq(params):\n",
    "        A1, A2, B = 2.06095, 2.31405, 0.03377\n",
    "        A3, A4 = params[0], params[1]\n",
    "        y_fit = [A1*np.cos(2*np.pi*X_data[i]/T0) + A2*np.sin(2*np.pi*X_data[i]/T0) + B + \\\n",
    "                 A3*np.cos(2*np.pi*X_data[i]/T1) + A4*np.sin(2*np.pi*X_data[i]/T1) \\\n",
    "                 for i in range(len(X_data))]\n",
    "        func_list = [(Y_data[i]-y_fit[i])**2/Y_data_err[i]**2 for i in range(len(X_data))]\n",
    "        ans = np.sum(func_list)\n",
    "        return ans\n",
    "    LL_model = minimize(chi_sq, np.array([1,1]), method = 'L-BFGS-B',tol = 1e-6) #minimize chi-square\n",
    "    A3, A4 = LL_model.x[0], LL_model.x[1]\n",
    "    likelihood.append(-1/2*chi_sq([A3, A4]))\n",
    "\n",
    "#deal with uncertainties\n",
    "covar = LL_model.hess_inv\n",
    "covar = covar * np.identity(covar.shape[1]) \n",
    "A3_err = np.sqrt(covar[0][0])*1e-3\n",
    "A4_err = np.sqrt(covar[1][1])*1e-3    "
   ]
  },
  {
   "cell_type": "markdown",
   "id": "250dd828-5074-46af-8fc6-caff6aea2053",
   "metadata": {},
   "source": [
    "#### Make similar plot as in pset02. But now, we will also have a cut-off at 68th percentile, and will extract a likelihood from that."
   ]
  },
  {
   "cell_type": "code",
   "execution_count": 193,
   "id": "299b4cf0-94df-4315-9dd6-f21925d1fb7b",
   "metadata": {},
   "outputs": [
    {
     "name": "stdout",
     "output_type": "stream",
     "text": [
      "uncertainty in T = 26.0 days\n"
     ]
    },
    {
     "data": {
      "image/png": "[encoded data removed]",
      "text/plain": [
       "<Figure size 432x288 with 1 Axes>"
      ]
     },
     "metadata": {
      "needs_background": "light"
     },
     "output_type": "display_data"
    }
   ],
   "source": [
    "fig, ax = plt.subplots()\n",
    "ax.plot(T_list, likelihood,'k-')\n",
    "\n",
    "index_max = max(range(len(likelihood)), key=likelihood.__getitem__)\n",
    "index_min = min(range(len(likelihood)), key=likelihood.__getitem__)\n",
    "conf68 = .68*(abs(likelihood[index_max])-abs(likelihood[index_min]))\n",
    "index_conf68 = min(range(len(likelihood)), key=lambda i: abs(likelihood[i]-conf68))\n",
    "dt = abs(T_list[index_max]-T_list[index_conf68])\n",
    "print('uncertainty in T = {} days'.format(dt))\n",
    "\n",
    "ax.scatter([T_list[index_max]],[likelihood[index_max]],marker = 'o', c='red',\\\n",
    "           label = r'T1 = {} days'.format(round(T_list[index_max],2)))\n",
    "ax.plot([0,400],[likelihood[index_max], likelihood[index_max]], 'k-.', label = 'max L')\n",
    "ax.plot([0,400],[conf68, conf68], 'k--', label = '68th percentile L')\n",
    "ax.plot([T_list[index_max]-dt,T_list[index_max]-dt],[likelihood[index_min],likelihood[index_max]], 'k-',alpha = 0.3)\n",
    "ax.plot([T_list[index_max]+dt,T_list[index_max]+dt],[likelihood[index_min],likelihood[index_max]], 'k-',alpha = 0.3)\n",
    "\n",
    "ax.set_xlabel('T [days]')\n",
    "ax.set_ylabel('Log-Likelihood')\n",
    "str1 = 'dataset #{}\\n'.format(11) + '\\n'\n",
    "str2 = r'$A_3$ = {} $\\pm$'.format(round(A3,5)) + '{}'.format(round(A3_err,5)) + '\\t'\n",
    "str3 = r'$A_4$ = {} $\\pm$'.format(round(A4,5)) + '{}'.format(round(A4_err,5))\n",
    "ax.set_title(str1+str2+str3)\n",
    "\n",
    "\n",
    "rectangle = patches.Rectangle((80, min(likelihood)), 40, abs(max(likelihood) - min(likelihood)), edgecolor='None',\\\n",
    "                              facecolor=\"orange\", zorder=2, label = 'excluded')\n",
    "ax.add_patch(rectangle)\n",
    "\n",
    "_=ax.legend()"
   ]
  },
  {
   "cell_type": "code",
   "execution_count": null,
   "id": "497dc783-f1ae-4841-9e65-d2fb62c85d79",
   "metadata": {},
   "outputs": [],
   "source": []
  }
 ],
 "metadata": {
  "kernelspec": {
   "display_name": "Python 3 (ipykernel)",
   "language": "python",
   "name": "python3"
  },
  "language_info": {
   "codemirror_mode": {
    "name": "ipython",
    "version": 3
   },
   "file_extension": ".py",
   "mimetype": "text/x-python",
   "name": "python",
   "nbconvert_exporter": "python",
   "pygments_lexer": "ipython3",
   "version": "3.10.6"
  }
 },
 "nbformat": 4,
 "nbformat_minor": 5
}
