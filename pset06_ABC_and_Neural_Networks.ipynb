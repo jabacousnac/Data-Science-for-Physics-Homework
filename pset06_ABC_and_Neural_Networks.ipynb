{
 "cells": [
  {
   "cell_type": "code",
   "execution_count": 14,
   "id": "f9288aea",
   "metadata": {},
   "outputs": [],
   "source": [
    "import numpy as np\n",
    "import pandas as pd\n",
    "import scipy as sp\n",
    "import matplotlib.pyplot as plt\n",
    "import pickle\n",
    "rng = np.random.default_rng(42)"
   ]
  },
  {
   "cell_type": "markdown",
   "id": "2080d326",
   "metadata": {},
   "source": [
    "## Q1. Use Approximate Bayesian Computation (ABC) to learn the hyperparameters of a Gaussian Process.\n",
    "### This is a hard problem, so we are going to use a small dataset:"
   ]
  },
  {
   "cell_type": "code",
   "execution_count": 20,
   "id": "4b82cc30",
   "metadata": {},
   "outputs": [],
   "source": [
    "with open(\"data_ps6.pkl\", \"rb\") as f:\n",
    "    xs, ys = pickle.load(f)"
   ]
  },
  {
   "cell_type": "markdown",
   "id": "84bcf0b9",
   "metadata": {},
   "source": [
    "### Define the matern 3/2 kernel, and draw from the priors over the two parameters of GP: xi and sigma^2\n",
    "#### (adapted from Hogg code)"
   ]
  },
  {
   "cell_type": "code",
   "execution_count": 100,
   "id": "4eefa62f",
   "metadata": {},
   "outputs": [],
   "source": [
    "def mk(xs1, xs2, sigma_sq, xi):\n",
    "    d = np.subtract.outer(xs1, xs2) #distances\n",
    "    return sigma_sq * ((1+(np.sqrt(3))*d/xi) * np.exp(-np.sqrt(3*d*d)/xi))\n",
    "\n",
    "def draw(pars, rng=rng): #flat priors\n",
    "    sigma_sq = pars[0] + (pars[1] - pars[0]) * rng.uniform()\n",
    "    xi = pars[2] + (pars[3] - pars[2]) * rng.uniform()\n",
    "    return sigma_sq, xi\n",
    "\n",
    "def simulate(xs, pars, rng=rng):\n",
    "    sigma_sq, xi = draw(pars, rng=rng)\n",
    "    var = mk(xs, xs, sigma_sq, xi)\n",
    "    return sigma_sq, xi, rng.multivariate_normal(0. * xs, var) #K is truly a variance!"
   ]
  },
  {
   "cell_type": "code",
   "execution_count": 30,
   "id": "2969b0c8",
   "metadata": {},
   "outputs": [
    {
     "name": "stderr",
     "output_type": "stream",
     "text": [
      "C:\\Users\\ajati\\AppData\\Local\\Temp\\ipykernel_10460\\439360285.py:13: RuntimeWarning: covariance is not positive-semidefinite.\n",
      "  return sigma_sq, xi, rng.multivariate_normal(0. * xs, var)\n"
     ]
    },
    {
     "data": {
      "image/png": "[encoded data removed]",
      "text/plain": [
       "<Figure size 432x288 with 1 Axes>"
      ]
     },
     "metadata": {
      "needs_background": "light"
     },
     "output_type": "display_data"
    }
   ],
   "source": [
    "#run the simulation\n",
    "prior_pars = np.array([10., 100., 1., 10.])\n",
    "sigma_sq, xi, ysim = simulate(xs, prior_pars)\n",
    "\n",
    "fig, ax = plt.subplots()\n",
    "ax.scatter(xs, ys, marker = 'o', c = 'magenta', label = 'data')\n",
    "ax.scatter(xs, ysim, marker = 'o', c = 'cyan', label = 'sim')\n",
    "ax.legend()\n",
    "ax.set_xlabel('X')\n",
    "_=ax.set_ylabel('Y')"
   ]
  },
  {
   "cell_type": "markdown",
   "id": "040bd382",
   "metadata": {},
   "source": [
    "### So far, so good...so what?\n",
    "### Now, run this simulation many many times and pick the simulations for which some criterion is satisfied"
   ]
  },
  {
   "cell_type": "code",
   "execution_count": 114,
   "id": "e84a1bde",
   "metadata": {},
   "outputs": [],
   "source": [
    "def ABC(xs, ys, pars, eps):\n",
    "    #run the simulation \n",
    "    sigma_sq, xi, ysim = simulate(xs, pars)\n",
    "    res = res_out(ys, ysim)\n",
    "    accept = False\n",
    "    if res < eps:\n",
    "        accept = True\n",
    "    return accept, sigma_sq, xi\n",
    "    \n",
    "def res_out(y, yhat): #compute the l2 norm, and average\n",
    "    res = [(y[i]**2 + yhat[i]**2)**1/2 for i in range(len(y))]\n",
    "    return np.mean(res)\n",
    "\n",
    "def fullABC(xs, ys, pars, eps0, N): #start with a large epsilon eps0\n",
    "    eps = eps0\n",
    "    n = 0\n",
    "    scale = 2 #a scaling factor\n",
    "    num_accept = 0 #keep track of number of acceptances\n",
    "    sigma_sq_list = []\n",
    "    xi_list = []\n",
    "    eps_list = []\n",
    "    while n<N:\n",
    "        if (n+1)%5000 == 0:\n",
    "            print('{}-th iteration'.format(n))\n",
    "        accept, sigma_sq, xi = ABC(xs, ys, pars, eps)\n",
    "        if accept:\n",
    "            eps/=2 #make the threshold even smaller if accepted\n",
    "            #we want to make priors become more and more constrained. Choose the larger or smaller between two\n",
    "                #options depending on limits\n",
    "            p0, p1, p2, p3 = pars[0], pars[1], pars[2], pars[3]\n",
    "            p0 = max(pars[0], xi-sigma_sq*scale)\n",
    "            p1 = min(pars[1], xi+sigma_sq*scale)\n",
    "            p2 = max(pars[2], xi-sigma_sq*scale)\n",
    "            p3 = min(pars[3], xi+sigma_sq*scale)\n",
    "            pars = np.array([p0, p1, p2, p3])\n",
    "            num_accept += 1\n",
    "        else: \n",
    "            eps*=1.05 #else, make threshold bigger\n",
    "        n += 1\n",
    "        sigma_sq_list.append(sigma_sq)\n",
    "        xi_list.append(xi)\n",
    "        eps_list.append(eps)\n",
    "    return eps_list, sigma_sq_list, xi_list"
   ]
  },
  {
   "cell_type": "code",
   "execution_count": 115,
   "id": "05c3f0e8",
   "metadata": {},
   "outputs": [
    {
     "name": "stderr",
     "output_type": "stream",
     "text": [
      "C:\\Users\\ajati\\AppData\\Local\\Temp\\ipykernel_10460\\4041756349.py:13: RuntimeWarning: covariance is not positive-semidefinite.\n",
      "  return sigma_sq, xi, rng.multivariate_normal(0. * xs, var) #K is truly a variance!\n"
     ]
    },
    {
     "name": "stdout",
     "output_type": "stream",
     "text": [
      "4999-th iteration\n",
      "9999-th iteration\n",
      "14999-th iteration\n",
      "19999-th iteration\n"
     ]
    },
    {
     "data": {
      "image/png": "[encoded data removed]",
      "text/plain": [
       "<Figure size 432x288 with 3 Axes>"
      ]
     },
     "metadata": {
      "needs_background": "light"
     },
     "output_type": "display_data"
    }
   ],
   "source": [
    "N = 20000\n",
    "eps_list, sigma_sq_list, xi_list = fullABC(xs, ys, np.array([10., 100., 1., 10.]), 10000, N)\n",
    "fig, [ax0, ax1, ax2] = plt.subplots(3, sharex = True)\n",
    "ax2.set_xlabel('# iterations')\n",
    "ax0.plot(np.arange(N), eps_list, 'k.-')\n",
    "ax1.plot(np.arange(N), sigma_sq_list, 'r.-')\n",
    "ax2.plot(np.arange(N), xi_list, 'b.-')\n",
    "ax0.set_ylabel(r'$\\epsilon$')\n",
    "ax1.set_ylabel(r'$\\sigma^{2}$')\n",
    "ax2.set_ylabel(r'$\\xi$')\n",
    "plt.tight_layout()"
   ]
  },
  {
   "cell_type": "markdown",
   "id": "8bd83fb7",
   "metadata": {},
   "source": [
    "## Q2. Revisit pset05 q1, and re-do the linear regression problem with a neural network."
   ]
  },
  {
   "cell_type": "code",
   "execution_count": 118,
   "id": "d5bcd785",
   "metadata": {},
   "outputs": [],
   "source": [
    "tr_file  = \"ap17_xpcont_train.pickle\"\n",
    "val_file = \"ap17_xpcont_validation.pickle\"\n",
    "\n",
    "with open(tr_file, 'rb') as f1:\n",
    "    data_tr = pickle.load(f1)\n",
    "\n",
    "with open(val_file, 'rb') as f2:\n",
    "    data_val = pickle.load(f2)\n",
    "    \n",
    "#TRAINING DATA:\n",
    "Y_data_train = data_tr['labels'][:,0] #T_eff. Col vector of n = 4000\n",
    "max_rp = np.max(data_tr['rp_coef'])\n",
    "X_bp = data_tr['bp_coef']/max_rp\n",
    "X_rp = data_tr['rp_coef']/max_rp\n",
    "X_data_train = np.dstack((X_bp, X_rp)) #X_data has shape (4000, 55, 2)\n",
    "\n",
    "#VALIDATION DATA:\n",
    "Y_data_val = data_val['labels'][:,0] #T_eff. Col vector of n = 1000\n",
    "max_rp = np.max(data_val['rp_coef'])\n",
    "X_bp = data_val['bp_coef']/max_rp\n",
    "X_rp = data_val['rp_coef']/max_rp\n",
    "X_data_val = np.dstack((X_bp, X_rp)) #X_data has shape (1000, 55, 2)"
   ]
  },
  {
   "cell_type": "code",
   "execution_count": 170,
   "id": "c86ba8ee",
   "metadata": {},
   "outputs": [
    {
     "name": "stdout",
     "output_type": "stream",
     "text": [
      "4000 55 2\n"
     ]
    },
    {
     "name": "stderr",
     "output_type": "stream",
     "text": [
      "C:\\Users\\ajati\\anaconda3\\lib\\site-packages\\sklearn\\neural_network\\_multilayer_perceptron.py:692: ConvergenceWarning: Stochastic Optimizer: Maximum iterations (3000) reached and the optimization hasn't converged yet.\n",
      "  warnings.warn(\n"
     ]
    }
   ],
   "source": [
    "from sklearn.neural_network import MLPRegressor\n",
    "from sklearn.datasets import make_regression\n",
    "from sklearn.model_selection import train_test_split\n",
    "\n",
    "nsamples, nx, ny = X_data_train.shape\n",
    "print(nsamples, nx, ny)\n",
    "d2_X_train = X_data_train.reshape((nsamples, nx*ny))\n",
    "regr = MLPRegressor(random_state=1, max_iter=3000).fit(d2_X_train, Y_data_train)\n"
   ]
  },
  {
   "cell_type": "code",
   "execution_count": 171,
   "id": "fdb87a4d",
   "metadata": {},
   "outputs": [
    {
     "data": {
      "text/plain": [
       "0.523829312986848"
      ]
     },
     "execution_count": 171,
     "metadata": {},
     "output_type": "execute_result"
    }
   ],
   "source": [
    "nsamples, nx, ny = X_data_val.shape\n",
    "d2_X_val = X_data_val.reshape((nsamples, nx*ny))\n",
    "regr.predict(d2_X_val)\n",
    "regr.score(d2_X_val, Y_data_val)"
   ]
  },
  {
   "cell_type": "code",
   "execution_count": 172,
   "id": "808fe113",
   "metadata": {},
   "outputs": [
    {
     "name": "stderr",
     "output_type": "stream",
     "text": [
      "C:\\Users\\ajati\\AppData\\Local\\Temp\\ipykernel_10460\\528698252.py:8: DeprecationWarning: Calling np.sum(generator) is deprecated, and in the future will give a different result. Use np.sum(np.fromiter(generator)) or the python sum builtin instead.\n",
      "  SST = np.sum((Y[i] - np.mean(Y_hat))**2 for i in range(len(Y))) #total sum of squares\n"
     ]
    },
    {
     "data": {
      "image/png": "[encoded data removed]",
      "text/plain": [
       "<Figure size 432x432 with 2 Axes>"
      ]
     },
     "metadata": {
      "needs_background": "light"
     },
     "output_type": "display_data"
    }
   ],
   "source": [
    "fig, [ax0, ax1] = plt.subplots(2, figsize = (6, 6))\n",
    "\n",
    "Y = Y_data_val.flatten()\n",
    "Y_hat = regr.predict(d2_X_val)\n",
    "\n",
    "res = abs(Y-Y_hat) \n",
    "SSR = np.sum(res**2) #sum of squares of residuals\n",
    "SST = np.sum((Y[i] - np.mean(Y_hat))**2 for i in range(len(Y))) #total sum of squares\n",
    "R_sq = 1-SSR/SST\n",
    "\n",
    "ax0.scatter(Y, Y_hat, marker = 'o', c = 'hotpink', label = 'NN results')\n",
    "ax0.plot([3500, 6500], [3500, 6500], 'k--', label = 'y = x')\n",
    "ax1.hist(res, bins = 50, color = \"orange\", ec=\"black\", \\\n",
    "             label='$R^2$ = {}'.format(np.round(R_sq,2)))\n",
    "ax1.legend()\n",
    "ax1.set_ylabel('# counts')\n",
    "ax1.set_xlabel('|Y preds - Y data|')\n",
    "\n",
    "ax0.legend()\n",
    "ax0.set_title('Comparison of predictions vs. validation data')\n",
    "ax1.set_title('residuals distribution')\n",
    "ax0.set_xlabel(r'Y data')\n",
    "_=ax0.set_ylabel(r'Y preds')\n",
    "plt.tight_layout()"
   ]
  },
  {
   "cell_type": "markdown",
   "id": "f93f7dc2",
   "metadata": {},
   "source": [
    "### To me, it looks like the neural net performs worse than the regular linear regression. Note that optimization didn't converge, so there is definitely some improvement that could be done on the NN to get better scores.\n",
    "### That $R^2$ value is terrible"
   ]
  }
 ],
 "metadata": {
  "kernelspec": {
   "display_name": "Python 3",
   "language": "python",
   "name": "python3"
  },
  "language_info": {
   "codemirror_mode": {
    "name": "ipython",
    "version": 3
   },
   "file_extension": ".py",
   "mimetype": "text/x-python",
   "name": "python",
   "nbconvert_exporter": "python",
   "pygments_lexer": "ipython3",
   "version": "3.9.12"
  }
 },
 "nbformat": 4,
 "nbformat_minor": 5
}
