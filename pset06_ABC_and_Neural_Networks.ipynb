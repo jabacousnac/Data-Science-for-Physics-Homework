{
 "cells": [
  {
   "cell_type": "code",
   "execution_count": 14,
   "id": "77509666",
   "metadata": {},
   "outputs": [],
   "source": [
    "import numpy as np\n",
    "import pandas as pd\n",
    "import scipy as sp\n",
    "import matplotlib.pyplot as plt\n",
    "import pickle\n",
    "rng = np.random.default_rng(42)"
   ]
  },
  {
   "cell_type": "markdown",
   "id": "b1e06214",
   "metadata": {},
   "source": [
    "## Q1. Use Approximate Bayesian Computation (ABC) to learn the hyperparameters of a Gaussian Process.\n",
    "### This is a hard problem, so we are going to use a small dataset:"
   ]
  },
  {
   "cell_type": "code",
   "execution_count": 20,
   "id": "bd476dd8",
   "metadata": {},
   "outputs": [],
   "source": [
    "with open(\"data_ps6.pkl\", \"rb\") as f:\n",
    "    xs, ys = pickle.load(f)"
   ]
  },
  {
   "cell_type": "markdown",
   "id": "b60f66f9",
   "metadata": {},
   "source": [
    "### Define the matern 3/2 kernel, and draw from the priors over the two parameters of GP: xi and sigma^2\n",
    "#### (adapted from Hogg code)"
   ]
  },
  {
   "cell_type": "code",
   "execution_count": 100,
   "id": "5d98f1aa",
   "metadata": {},
   "outputs": [],
   "source": [
    "def mk(xs1, xs2, sigma_sq, xi):\n",
    "    d = np.subtract.outer(xs1, xs2) #distances\n",
    "    return sigma_sq * ((1+(np.sqrt(3))*d/xi) * np.exp(-np.sqrt(3*d*d)/xi))\n",
    "\n",
    "def draw(pars, rng=rng): #flat priors\n",
    "    sigma_sq = pars[0] + (pars[1] - pars[0]) * rng.uniform()\n",
    "    xi = pars[2] + (pars[3] - pars[2]) * rng.uniform()\n",
    "    return sigma_sq, xi\n",
    "\n",
    "def simulate(xs, pars, rng=rng):\n",
    "    sigma_sq, xi = draw(pars, rng=rng)\n",
    "    var = mk(xs, xs, sigma_sq, xi)\n",
    "    return sigma_sq, xi, rng.multivariate_normal(0. * xs, var) #K is truly a variance!"
   ]
  },
  {
   "cell_type": "code",
   "execution_count": 30,
   "id": "08b31cfb",
   "metadata": {},
   "outputs": [
    {
     "name": "stderr",
     "output_type": "stream",
     "text": [
      "C:\\Users\\ajati\\AppData\\Local\\Temp\\ipykernel_10460\\439360285.py:13: RuntimeWarning: covariance is not positive-semidefinite.\n",
      "  return sigma_sq, xi, rng.multivariate_normal(0. * xs, var)\n"
     ]
    },
    {
     "data": {
      "image/png": "[encoded data removed]",
      "text/plain": [
       "<Figure size 432x288 with 1 Axes>"
      ]
     },
     "metadata": {
      "needs_background": "light"
     },
     "output_type": "display_data"
    }
   ],
   "source": [
    "#run the simulation\n",
    "prior_pars = np.array([10., 100., 1., 10.])\n",
    "sigma_sq, xi, ysim = simulate(xs, prior_pars)\n",
    "\n",
    "fig, ax = plt.subplots()\n",
    "ax.scatter(xs, ys, marker = 'o', c = 'magenta', label = 'data')\n",
    "ax.scatter(xs, ysim, marker = 'o', c = 'cyan', label = 'sim')\n",
    "ax.legend()\n",
    "ax.set_xlabel('X')\n",
    "_=ax.set_ylabel('Y')"
   ]
  },
  {
   "cell_type": "markdown",
   "id": "15c10bfb",
   "metadata": {},
   "source": [
    "### So far, so good...so what?\n",
    "### Now, run this simulation many many times and pick the simulations for which some criterion is satisfied"
   ]
  },
  {
   "cell_type": "code",
   "execution_count": 109,
   "id": "6797d2d2",
   "metadata": {},
   "outputs": [],
   "source": [
    "def ABC(xs, ys, pars, eps):\n",
    "    #run the simulation \n",
    "    sigma_sq, xi, ysim = simulate(xs, pars)\n",
    "    res = res_out(ys, ysim)\n",
    "    accept = False\n",
    "    if res < eps:\n",
    "        accept = True\n",
    "    return accept, sigma_sq, xi\n",
    "    \n",
    "def res_out(y, yhat): #compute the l2 norm, and average\n",
    "    res = [(y[i]**2 + yhat[i]**2)**1/2 for i in range(len(y))]\n",
    "    return np.mean(res)\n",
    "\n",
    "def fullABC(xs, ys, pars, eps0, N): #start with a large epsilon eps0\n",
    "    eps = eps0\n",
    "    n = 0\n",
    "    scale = 2 #a scaling factor\n",
    "    num_accept = 0 #keep track of number of acceptances\n",
    "    sigma_sq_list = []\n",
    "    xi_list = []\n",
    "    eps_list = []\n",
    "    while n<N:\n",
    "        if n%1000 == 0:\n",
    "            print('{}-th iteration'.format(n))\n",
    "        accept, sigma_sq, xi = ABC(xs, ys, pars, eps)\n",
    "        if accept:\n",
    "            eps/=2 #make the threshold even smaller if accepted\n",
    "            #we want to make priors become more and more constrained. Choose the larger or smaller between two\n",
    "                #options depending on limits\n",
    "            p0, p1, p2, p3 = pars[0], pars[1], pars[2], pars[3]\n",
    "            p0 = max(pars[0], xi-sigma_sq*scale)\n",
    "            p1 = min(pars[1], xi+sigma_sq*scale)\n",
    "            p2 = max(pars[2], xi-sigma_sq*scale)\n",
    "            p3 = min(pars[3], xi+sigma_sq*scale)\n",
    "            pars = np.array([p0, p1, p2, p3])\n",
    "            num_accept += 1\n",
    "        else: \n",
    "            eps*=1.05 #else, make threshold bigger\n",
    "        n += 1\n",
    "        sigma_sq_list.append(sigma_sq)\n",
    "        xi_list.append(xi)\n",
    "        eps_list.append(eps)\n",
    "    return eps_list, sigma_sq_list, xi_list"
   ]
  },
  {
   "cell_type": "code",
   "execution_count": 111,
   "id": "a076a293",
   "metadata": {},
   "outputs": [
    {
     "name": "stdout",
     "output_type": "stream",
     "text": [
      "0-th iteration\n",
      "1000-th iteration\n"
     ]
    },
    {
     "name": "stderr",
     "output_type": "stream",
     "text": [
      "C:\\Users\\ajati\\AppData\\Local\\Temp\\ipykernel_10460\\4041756349.py:13: RuntimeWarning: covariance is not positive-semidefinite.\n",
      "  return sigma_sq, xi, rng.multivariate_normal(0. * xs, var) #K is truly a variance!\n"
     ]
    },
    {
     "name": "stdout",
     "output_type": "stream",
     "text": [
      "2000-th iteration\n",
      "3000-th iteration\n",
      "4000-th iteration\n",
      "5000-th iteration\n",
      "6000-th iteration\n",
      "7000-th iteration\n",
      "8000-th iteration\n",
      "9000-th iteration\n",
      "10000-th iteration\n",
      "11000-th iteration\n",
      "12000-th iteration\n",
      "13000-th iteration\n",
      "14000-th iteration\n",
      "15000-th iteration\n",
      "16000-th iteration\n",
      "17000-th iteration\n",
      "18000-th iteration\n",
      "19000-th iteration\n"
     ]
    },
    {
     "data": {
      "image/png": "[encoded data removed]",
      "text/plain": [
       "<Figure size 432x288 with 3 Axes>"
      ]
     },
     "metadata": {
      "needs_background": "light"
     },
     "output_type": "display_data"
    }
   ],
   "source": [
    "N = 20000\n",
    "eps_list, sigma_sq_list, xi_list = fullABC(xs, ys, np.array([10., 100., 1., 10.]), 10000, N)\n",
    "fig, [ax0, ax1, ax2] = plt.subplots(3)\n",
    "ax0.plot(np.arange(N), eps_list, 'k.-')\n",
    "ax1.plot(np.arange(N), sigma_sq_list, 'r.-')\n",
    "ax2.plot(np.arange(N), xi_list, 'b.-')\n",
    "plt.tight_layout()"
   ]
  }
 ],
 "metadata": {
  "kernelspec": {
   "display_name": "Python 3",
   "language": "python",
   "name": "python3"
  },
  "language_info": {
   "codemirror_mode": {
    "name": "ipython",
    "version": 3
   },
   "file_extension": ".py",
   "mimetype": "text/x-python",
   "name": "python",
   "nbconvert_exporter": "python",
   "pygments_lexer": "ipython3",
   "version": "3.9.12"
  }
 },
 "nbformat": 4,
 "nbformat_minor": 5
}
